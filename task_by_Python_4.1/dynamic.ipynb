{
 "cells": [
  {
   "cell_type": "code",
   "execution_count": 1,
   "metadata": {
    "collapsed": true
   },
   "outputs": [],
   "source": [
    "import pandas as pd\n",
    "import os"
   ]
  },
  {
   "cell_type": "code",
   "execution_count": 2,
   "metadata": {
    "collapsed": true
   },
   "outputs": [],
   "source": [
    "DATA_PATH = 'names/'"
   ]
  },
  {
   "cell_type": "code",
   "execution_count": 3,
   "metadata": {
    "collapsed": true
   },
   "outputs": [],
   "source": [
    "def out_from_file(years):\n",
    "    result_of_years = pd.DataFrame(columns=['Name','Gender','Count'])\n",
    "    for year in years:\n",
    "        name_of_file = ''.join(['yob', str(year), '.txt'])\n",
    "        path_of_file = os.path.join(DATA_PATH, name_of_file)\n",
    "        frame_of_years = pd.read_csv(path_of_file, names=['Name','Gender','Count'])\n",
    "        frame_of_years['Year'] = year\n",
    "        result_of_years = result_of_years.append(frame_of_years)\n",
    "    return result_of_years"
   ]
  },
  {
   "cell_type": "code",
   "execution_count": 4,
   "metadata": {
    "collapsed": true
   },
   "outputs": [],
   "source": [
    "def dynamic_of_quantity(years):\n",
    "    dict_of_quantity = {}\n",
    "    out_from_function = out_from_file(years)\n",
    "    dynamic_of_female = list(out_from_function[out_from_function.Gender=='F'].groupby('Year').Count.sum().to_frame()['Count'])\n",
    "    dict_of_quantity['F'] = dynamic_of_female\n",
    "    dynamic_of_male = list(out_from_function[out_from_function.Gender=='M'].groupby('Year').Count.sum().to_frame()['Count'])\n",
    "    dict_of_quantity['M'] = dynamic_of_male\n",
    "    return dict_of_quantity"
   ]
  },
  {
   "cell_type": "code",
   "execution_count": 5,
   "metadata": {},
   "outputs": [
    {
     "data": {
      "text/plain": [
       "{'F': [299810, 1713259, 1814922], 'M': [150486, 1790871, 1962744]}"
      ]
     },
     "execution_count": 5,
     "metadata": {},
     "output_type": "execute_result"
    }
   ],
   "source": [
    "dynamic_of_quantity([1900, 1950, 2000])"
   ]
  },
  {
   "cell_type": "code",
   "execution_count": null,
   "metadata": {
    "collapsed": true
   },
   "outputs": [],
   "source": []
  }
 ],
 "metadata": {
  "kernelspec": {
   "display_name": "Python 3",
   "language": "python",
   "name": "python3"
  },
  "language_info": {
   "codemirror_mode": {
    "name": "ipython",
    "version": 3
   },
   "file_extension": ".py",
   "mimetype": "text/x-python",
   "name": "python",
   "nbconvert_exporter": "python",
   "pygments_lexer": "ipython3",
   "version": "3.6.3"
  }
 },
 "nbformat": 4,
 "nbformat_minor": 2
}
